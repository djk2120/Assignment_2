{
 "cells": [
  {
   "cell_type": "code",
   "execution_count": 1,
   "metadata": {
    "collapsed": true
   },
   "outputs": [],
   "source": [
    "import numpy as np\n",
    "from matplotlib import pyplot as plt\n",
    "%matplotlib inline\n",
    "from ipywidgets import widgets\n",
    "from IPython.display import display\n",
    "plt.rcParams['figure.figsize'] = (8,5)"
   ]
  },
  {
   "cell_type": "code",
   "execution_count": 2,
   "metadata": {
    "collapsed": true
   },
   "outputs": [],
   "source": [
    "data = np.zeros([216,51])\n",
    "ct   = -1 \n",
    "for i in np.linspace(1,6,6):\n",
    "    for j in np.linspace(1,6,6):\n",
    "        for k in np.linspace(1,6,6):\n",
    "            ct += 1\n",
    "            data[ct,0]=i\n",
    "            data[ct,1]=j\n",
    "            data[ct,2]=k\n",
    "            for t in np.linspace(1,48,48):\n",
    "                data[ct,2+int(t)]=(max(np.sin((t-8)/10),0)\n",
    "                  + i/15*max(np.sin((t-8)/10),0)\n",
    "                  - j/8*max(np.sin((t-8)/10),0)\n",
    "                  + k/10)\n",
    "                "
   ]
  },
  {
   "cell_type": "code",
   "execution_count": 5,
   "metadata": {},
   "outputs": [
    {
     "data": {
      "text/plain": [
       "array([ 13.,  17.,  21.,  25.,  29.,  33.,  13.,  17.,  21.,  25.,  29.,\n",
       "        33.,  13.,  17.,  21.,  25.,  29.,  33.,  13.,  17.,  21.,  25.,\n",
       "        29.,  33.,  13.,  17.,  21.,  25.,  29.,  33.,  13.,  17.,  21.,\n",
       "        25.,  29.,  33.,  13.,  17.,  21.,  25.,  29.,  33.,  13.,  17.,\n",
       "        21.,  25.,  29.,  33.,  13.,  17.,  21.,  25.,  29.,  33.,  13.,\n",
       "        17.,  21.,  25.,  29.,  33.,  13.,  17.,  21.,  25.,  29.,  33.,\n",
       "        13.,  17.,  21.,  25.,  29.,  33.,  13.,  17.,  21.,  25.,  29.,\n",
       "        33.,  13.,  17.,  21.,  25.,  29.,  33.,  13.,  17.,  21.,  25.,\n",
       "        29.,  33.,  13.,  17.,  21.,  25.,  29.,  33.,  13.,  17.,  21.,\n",
       "        25.,  29.,  33.,  13.,  17.,  21.,  25.,  29.,  33.,  13.,  17.,\n",
       "        21.,  25.,  29.,  33.,  13.,  17.,  21.,  25.,  29.,  33.,  13.,\n",
       "        17.,  21.,  25.,  29.,  33.,  13.,  17.,  21.,  25.,  29.,  33.,\n",
       "        13.,  17.,  21.,  25.,  29.,  33.,  13.,  17.,  21.,  25.,  29.,\n",
       "        33.,  13.,  17.,  21.,  25.,  29.,  33.,  13.,  17.,  21.,  25.,\n",
       "        29.,  33.,  13.,  17.,  21.,  25.,  29.,  33.,  13.,  17.,  21.,\n",
       "        25.,  29.,  33.,  13.,  17.,  21.,  25.,  29.,  33.,  13.,  17.,\n",
       "        21.,  25.,  29.,  33.,  13.,  17.,  21.,  25.,  29.,  33.,  13.,\n",
       "        17.,  21.,  25.,  29.,  33.,  13.,  17.,  21.,  25.,  29.,  33.,\n",
       "        13.,  17.,  21.,  25.,  29.,  33.,  13.,  17.,  21.,  25.,  29.,\n",
       "        33.,  13.,  17.,  21.,  25.,  29.,  33.])"
      ]
     },
     "execution_count": 5,
     "metadata": {},
     "output_type": "execute_result"
    }
   ],
   "source": [
    "data  = np.loadtxt('fctr.txt')\n",
    "data2 = np.loadtxt('fpsn.txt')\n",
    "data[:,2]\n"
   ]
  },
  {
   "cell_type": "code",
   "execution_count": 3,
   "metadata": {
    "collapsed": true
   },
   "outputs": [],
   "source": [
    "def plot_ten(ten):\n",
    "    ax1 = plt.subplot(1,2,1)\n",
    "    ax2 = plt.subplot(1,2,2)\n",
    "    for i in np.linspace(10,1,10):\n",
    "        if sum(ten[int(i),:])>0:\n",
    "            ix1 = data[:,0]>0\n",
    "            ix2 = data[:,0]>0\n",
    "            for j in range(3):\n",
    "                ix1 = np.logical_and(ix1,data[:,j]==ten[int(i),j])\n",
    "                ix2 = np.logical_and(ix2,data2[:,j]==ten[int(i),j])\n",
    "            if sum(ix1)>0:\n",
    "                out = data[ix1,3:]\n",
    "                out2 = data2[ix2,3:]\n",
    "                if i==1:\n",
    "                    ax1.plot(np.transpose(out),'r')\n",
    "                    ax2.plot(np.transpose(out2),'r')\n",
    "                else:\n",
    "                    ax1.plot(np.transpose(out),color=(0.8,0.7,0.7))\n",
    "                    ax2.plot(np.transpose(out2),color=(0.8,0.7,0.7))\n",
    "                ax1.set_ylim([0,400])\n",
    "                ax2.set_ylim([0,30])\n",
    "\n",
    "\n"
   ]
  },
  {
   "cell_type": "code",
   "execution_count": 6,
   "metadata": {},
   "outputs": [
    {
     "data": {
      "application/vnd.jupyter.widget-view+json": {
       "model_id": "0faa6ab908c1418ba131946ba2c8e9dc",
       "version_major": 2,
       "version_minor": 0
      },
      "text/plain": [
       "A Jupyter Widget"
      ]
     },
     "metadata": {},
     "output_type": "display_data"
    }
   ],
   "source": [
    "def f(i,j,k):\n",
    "    old_ten = ten\n",
    "    ten[0,:]  = [i,j,k]\n",
    "    ten[1:,:] = old_ten[0:10,:]\n",
    "    plot_ten(ten)\n",
    "    \n",
    "ten = np.zeros([11,3])\n",
    "w = widgets.interactive(f, i=(10,85,15),j=(4,9,1),k=(13,33,4))\n",
    "display(w)"
   ]
  },
  {
   "cell_type": "code",
   "execution_count": null,
   "metadata": {
    "collapsed": true
   },
   "outputs": [],
   "source": []
  }
 ],
 "metadata": {
  "kernelspec": {
   "display_name": "Python 3",
   "language": "python",
   "name": "python3"
  },
  "language_info": {
   "codemirror_mode": {
    "name": "ipython",
    "version": 3
   },
   "file_extension": ".py",
   "mimetype": "text/x-python",
   "name": "python",
   "nbconvert_exporter": "python",
   "pygments_lexer": "ipython3",
   "version": "3.6.2"
  }
 },
 "nbformat": 4,
 "nbformat_minor": 2
}
