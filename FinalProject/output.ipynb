{
 "cells": [
  {
   "cell_type": "code",
   "execution_count": 13,
   "metadata": {
    "collapsed": true
   },
   "outputs": [],
   "source": [
    "import numpy as np\n",
    "from matplotlib import pyplot as plt\n",
    "%matplotlib inline\n",
    "from ipywidgets import widgets\n",
    "from IPython.display import display"
   ]
  },
  {
   "cell_type": "code",
   "execution_count": 60,
   "metadata": {},
   "outputs": [],
   "source": [
    "data = np.zeros([216,51])\n",
    "ct   = -1 \n",
    "for i in np.linspace(1,6,6):\n",
    "    for j in np.linspace(1,6,6):\n",
    "        for k in np.linspace(1,6,6):\n",
    "            ct += 1\n",
    "            data[ct,0]=i\n",
    "            data[ct,1]=j\n",
    "            data[ct,2]=k\n",
    "            for t in np.linspace(1,48,48):\n",
    "                data[ct,2+int(t)]=(max(np.sin((t-8)/10),0)\n",
    "                  + i/15*max(np.sin((t-8)/10),0)\n",
    "                  - j/8*max(np.sin((t-8)/10),0)\n",
    "                  + k/10)\n",
    "                "
   ]
  },
  {
   "cell_type": "code",
   "execution_count": 111,
   "metadata": {},
   "outputs": [],
   "source": [
    "def plot_ten(ten):\n",
    "    for i in np.linspace(10,1,10):\n",
    "        if sum(ten[int(i),:])>0:\n",
    "            ix = data[:,0]>0\n",
    "            for j in range(3):\n",
    "                ix = np.logical_and(ix,data[:,j]==ten[int(i),j])\n",
    "            out = data[ix,3:]\n",
    "            if i==1:\n",
    "                plt.plot(np.transpose(out),'r')\n",
    "            else:\n",
    "                plt.plot(np.transpose(out),color=(0.8,0.7,0.7))\n",
    "            plt.ylim([0,2])\n"
   ]
  },
  {
   "cell_type": "code",
   "execution_count": 112,
   "metadata": {},
   "outputs": [
    {
     "data": {
      "application/vnd.jupyter.widget-view+json": {
       "model_id": "e53295fdde1c46d1b7e007299f552dcb",
       "version_major": 2,
       "version_minor": 0
      },
      "text/plain": [
       "A Jupyter Widget"
      ]
     },
     "metadata": {},
     "output_type": "display_data"
    }
   ],
   "source": [
    "def f(i,j,k):\n",
    "    old_ten = ten\n",
    "    ten[0,:]  = [i,j,k]\n",
    "    ten[1:,:] = old_ten[0:10,:]\n",
    "    plot_ten(ten)\n",
    "    \n",
    "ten = np.zeros([11,3])\n",
    "w = widgets.interactive(f, i=(1,6,1),j=(1,6,1),k=(1,6,1))\n",
    "display(w)"
   ]
  },
  {
   "cell_type": "code",
   "execution_count": null,
   "metadata": {
    "collapsed": true
   },
   "outputs": [],
   "source": []
  }
 ],
 "metadata": {
  "kernelspec": {
   "display_name": "Python 3",
   "language": "python",
   "name": "python3"
  },
  "language_info": {
   "codemirror_mode": {
    "name": "ipython",
    "version": 3
   },
   "file_extension": ".py",
   "mimetype": "text/x-python",
   "name": "python",
   "nbconvert_exporter": "python",
   "pygments_lexer": "ipython3",
   "version": "3.6.2"
  }
 },
 "nbformat": 4,
 "nbformat_minor": 2
}
