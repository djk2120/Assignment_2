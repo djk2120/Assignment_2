{
 "cells": [
  {
   "cell_type": "markdown",
   "metadata": {},
   "source": [
    "# Homework: Introduction to Python \n",
    "\n",
    "**Due: Thursday, Sept. 21**\n",
    "\n",
    "Your assignment should be handed in an ipython notebook checked into your github repository.\n",
    "\n",
    "## Optional But Recommended Reading\n",
    "\n",
    "Read the official [Python Tutorial](https://docs.python.org/3/tutorial/index.html) sections 1-5. This excellent, well written tutorial introduces all of the most important concepts of the core python language and its standard library. Even if you don't read it, you should know where to find it; if you get stuck, it should be your first place to turn for help.\n",
    "\n",
    "## Constraints\n",
    "\n",
    "* This assignment should be done in _basic python_: don't `import` any extra modules unless specifically instructed to do so.\n",
    "* You should work on this assignment _alone_. \n",
    "* Try to do the problems yourself. Refer to the lecture notes and the [Python Tutorial](https://docs.python.org/3/tutorial/index.html) if you get stuck. Avoid random googling and stack-overflowing. A perfect solution is less important than the process of figuring it out yourself.\n",
    "\n"
   ]
  },
  {
   "cell_type": "markdown",
   "metadata": {},
   "source": [
    "## 1. Dictionaries and Strings"
   ]
  },
  {
   "cell_type": "markdown",
   "metadata": {},
   "source": [
    "In this section we will explore a [dictionary](https://docs.python.org/3/tutorial/datastructures.html#dictionaries) whose keys and values are [strings](https://docs.python.org/3/tutorial/introduction.html#strings). \n",
    "\n",
    "Cut and paste the following code to read a data file. (You are not expected to understand exactly what is happening here...it's just a quick way for us to get some data into python.)\n",
    "\n",
    "    import pickle\n",
    "    with open('class_names.pkl', 'rb') as file:\n",
    "        data = pickle.load(file)\n",
    "\n",
    "This will load some pre-generated data into the variable `data`. "
   ]
  },
  {
   "cell_type": "markdown",
   "metadata": {},
   "source": [
    "## Daniel Kennedy - djk2120"
   ]
  },
  {
   "cell_type": "code",
   "execution_count": 1,
   "metadata": {
    "collapsed": true
   },
   "outputs": [],
   "source": [
    "import pickle\n",
    "with open('class_names.pkl', 'rb') as file:\n",
    "    data = pickle.load(file)"
   ]
  },
  {
   "cell_type": "markdown",
   "metadata": {},
   "source": [
    "### 1.1 Examine the data by allowing the notebook to print it\n",
    "(Just enter `data` on the last line of the cell and execute it.)"
   ]
  },
  {
   "cell_type": "code",
   "execution_count": 2,
   "metadata": {},
   "outputs": [
    {
     "data": {
      "text/plain": [
       "{'akb2134': 'Bozack, Anne',\n",
       " 'cjc2252': 'Carchedi, Christopher',\n",
       " 'cjc2256': 'Chesley, Christine',\n",
       " 'cjm2246': 'Martinez-Zayas, Carlos',\n",
       " 'cp2850': 'Peltier, Carly',\n",
       " 'cr2630': 'Raymond, Colin',\n",
       " 'csl2164': 'Lesk, Corey',\n",
       " 'djk2120': 'Kennedy, Daniel',\n",
       " 'dpb2141': 'Babin, Daniel',\n",
       " 'ehc2150': 'Case, Elizabeth',\n",
       " 'jg3223': 'Guo, Jean',\n",
       " 'jwd2136': 'Doss-Gollin, James',\n",
       " 'lkg2133': 'Gruenburg, Laura',\n",
       " 'map2251': 'Pascolini-Campbell, Madeleine',\n",
       " 'meg2203': 'Gemma, Marina',\n",
       " 'mmf2171': 'Frenkel, Megan',\n",
       " 'njl2134': 'Lenssen, Nathan',\n",
       " 'nr2447': 'Ramesh, Nandini',\n",
       " 'rae2148': 'Esparzagamez, Ricardo',\n",
       " 'sb3210': 'Baek, Seung Hun',\n",
       " 'scw2148': 'Wong, Suki',\n",
       " 'sel2172': 'Lytle, Sara',\n",
       " 'sw2936': 'Wang, Siyan',\n",
       " 'tpj2104': 'Janoski, Tyler',\n",
       " 'tz2218': 'Zhang, Tianbo',\n",
       " 'ukm2103': 'Miller, Una',\n",
       " 'xj2176': 'Jin, Xiaomeng',\n",
       " 'yh3019': 'Huang, Yu'}"
      ]
     },
     "execution_count": 2,
     "metadata": {},
     "output_type": "execute_result"
    }
   ],
   "source": [
    "data"
   ]
  },
  {
   "cell_type": "markdown",
   "metadata": {},
   "source": [
    "## 1.2 Comare to the output of `print(data)`\n",
    "Which one is prettier?"
   ]
  },
  {
   "cell_type": "code",
   "execution_count": 3,
   "metadata": {
    "scrolled": true
   },
   "outputs": [
    {
     "name": "stdout",
     "output_type": "stream",
     "text": [
      "{'dpb2141': 'Babin, Daniel', 'sb3210': 'Baek, Seung Hun', 'akb2134': 'Bozack, Anne', 'cjc2252': 'Carchedi, Christopher', 'ehc2150': 'Case, Elizabeth', 'cjc2256': 'Chesley, Christine', 'jwd2136': 'Doss-Gollin, James', 'rae2148': 'Esparzagamez, Ricardo', 'mmf2171': 'Frenkel, Megan', 'meg2203': 'Gemma, Marina', 'lkg2133': 'Gruenburg, Laura', 'jg3223': 'Guo, Jean', 'yh3019': 'Huang, Yu', 'tpj2104': 'Janoski, Tyler', 'xj2176': 'Jin, Xiaomeng', 'djk2120': 'Kennedy, Daniel', 'njl2134': 'Lenssen, Nathan', 'csl2164': 'Lesk, Corey', 'sel2172': 'Lytle, Sara', 'cjm2246': 'Martinez-Zayas, Carlos', 'ukm2103': 'Miller, Una', 'map2251': 'Pascolini-Campbell, Madeleine', 'cp2850': 'Peltier, Carly', 'nr2447': 'Ramesh, Nandini', 'cr2630': 'Raymond, Colin', 'sw2936': 'Wang, Siyan', 'scw2148': 'Wong, Suki', 'tz2218': 'Zhang, Tianbo'}\n"
     ]
    }
   ],
   "source": [
    "print(data)"
   ]
  },
  {
   "cell_type": "markdown",
   "metadata": {},
   "source": [
    "**DK:** I preferred just typing data"
   ]
  },
  {
   "cell_type": "markdown",
   "metadata": {},
   "source": [
    "### 1.3 Determine what type of object is `data`"
   ]
  },
  {
   "cell_type": "code",
   "execution_count": 4,
   "metadata": {},
   "outputs": [
    {
     "data": {
      "text/plain": [
       "dict"
      ]
     },
     "execution_count": 4,
     "metadata": {},
     "output_type": "execute_result"
    }
   ],
   "source": [
    "type(data)"
   ]
  },
  {
   "cell_type": "markdown",
   "metadata": {},
   "source": [
    "### 1.4 Use python's built-in `help` function to find out what operations are available on `data`\n",
    "(What is the meaning of the methods that start with \\__?)"
   ]
  },
  {
   "cell_type": "code",
   "execution_count": 5,
   "metadata": {
    "scrolled": false
   },
   "outputs": [
    {
     "name": "stdout",
     "output_type": "stream",
     "text": [
      "Help on dict object:\n",
      "\n",
      "class dict(object)\n",
      " |  dict() -> new empty dictionary\n",
      " |  dict(mapping) -> new dictionary initialized from a mapping object's\n",
      " |      (key, value) pairs\n",
      " |  dict(iterable) -> new dictionary initialized as if via:\n",
      " |      d = {}\n",
      " |      for k, v in iterable:\n",
      " |          d[k] = v\n",
      " |  dict(**kwargs) -> new dictionary initialized with the name=value pairs\n",
      " |      in the keyword argument list.  For example:  dict(one=1, two=2)\n",
      " |  \n",
      " |  Methods defined here:\n",
      " |  \n",
      " |  __contains__(self, key, /)\n",
      " |      True if D has a key k, else False.\n",
      " |  \n",
      " |  __delitem__(self, key, /)\n",
      " |      Delete self[key].\n",
      " |  \n",
      " |  __eq__(self, value, /)\n",
      " |      Return self==value.\n",
      " |  \n",
      " |  __ge__(self, value, /)\n",
      " |      Return self>=value.\n",
      " |  \n",
      " |  __getattribute__(self, name, /)\n",
      " |      Return getattr(self, name).\n",
      " |  \n",
      " |  __getitem__(...)\n",
      " |      x.__getitem__(y) <==> x[y]\n",
      " |  \n",
      " |  __gt__(self, value, /)\n",
      " |      Return self>value.\n",
      " |  \n",
      " |  __init__(self, /, *args, **kwargs)\n",
      " |      Initialize self.  See help(type(self)) for accurate signature.\n",
      " |  \n",
      " |  __iter__(self, /)\n",
      " |      Implement iter(self).\n",
      " |  \n",
      " |  __le__(self, value, /)\n",
      " |      Return self<=value.\n",
      " |  \n",
      " |  __len__(self, /)\n",
      " |      Return len(self).\n",
      " |  \n",
      " |  __lt__(self, value, /)\n",
      " |      Return self<value.\n",
      " |  \n",
      " |  __ne__(self, value, /)\n",
      " |      Return self!=value.\n",
      " |  \n",
      " |  __new__(*args, **kwargs) from builtins.type\n",
      " |      Create and return a new object.  See help(type) for accurate signature.\n",
      " |  \n",
      " |  __repr__(self, /)\n",
      " |      Return repr(self).\n",
      " |  \n",
      " |  __setitem__(self, key, value, /)\n",
      " |      Set self[key] to value.\n",
      " |  \n",
      " |  __sizeof__(...)\n",
      " |      D.__sizeof__() -> size of D in memory, in bytes\n",
      " |  \n",
      " |  clear(...)\n",
      " |      D.clear() -> None.  Remove all items from D.\n",
      " |  \n",
      " |  copy(...)\n",
      " |      D.copy() -> a shallow copy of D\n",
      " |  \n",
      " |  fromkeys(iterable, value=None, /) from builtins.type\n",
      " |      Returns a new dict with keys from iterable and values equal to value.\n",
      " |  \n",
      " |  get(...)\n",
      " |      D.get(k[,d]) -> D[k] if k in D, else d.  d defaults to None.\n",
      " |  \n",
      " |  items(...)\n",
      " |      D.items() -> a set-like object providing a view on D's items\n",
      " |  \n",
      " |  keys(...)\n",
      " |      D.keys() -> a set-like object providing a view on D's keys\n",
      " |  \n",
      " |  pop(...)\n",
      " |      D.pop(k[,d]) -> v, remove specified key and return the corresponding value.\n",
      " |      If key is not found, d is returned if given, otherwise KeyError is raised\n",
      " |  \n",
      " |  popitem(...)\n",
      " |      D.popitem() -> (k, v), remove and return some (key, value) pair as a\n",
      " |      2-tuple; but raise KeyError if D is empty.\n",
      " |  \n",
      " |  setdefault(...)\n",
      " |      D.setdefault(k[,d]) -> D.get(k,d), also set D[k]=d if k not in D\n",
      " |  \n",
      " |  update(...)\n",
      " |      D.update([E, ]**F) -> None.  Update D from dict/iterable E and F.\n",
      " |      If E is present and has a .keys() method, then does:  for k in E: D[k] = E[k]\n",
      " |      If E is present and lacks a .keys() method, then does:  for k, v in E: D[k] = v\n",
      " |      In either case, this is followed by: for k in F:  D[k] = F[k]\n",
      " |  \n",
      " |  values(...)\n",
      " |      D.values() -> an object providing a view on D's values\n",
      " |  \n",
      " |  ----------------------------------------------------------------------\n",
      " |  Data and other attributes defined here:\n",
      " |  \n",
      " |  __hash__ = None\n",
      "\n"
     ]
    }
   ],
   "source": [
    "help(data)"
   ]
  },
  {
   "cell_type": "markdown",
   "metadata": {},
   "source": [
    "**DK:** It seems like the double underscore methods are internal methods that ought not be called."
   ]
  },
  {
   "cell_type": "markdown",
   "metadata": {},
   "source": [
    "By now it should be clear that `data` is a [dict](https://docs.python.org/3/library/stdtypes.html#mapping-types-dict)  (i.e. \"dictionary\") that maps UNIs to names for all students in the class.\n",
    "\n",
    "For the remaining questions, the point is to _have python tell you the answer_. (Obviously you could just manually count / sort the data, but that defeats the purpose!)\n",
    "\n",
    "### 1.5 How many entries are there in `data`"
   ]
  },
  {
   "cell_type": "code",
   "execution_count": 6,
   "metadata": {},
   "outputs": [
    {
     "data": {
      "text/plain": [
       "28"
      ]
     },
     "execution_count": 6,
     "metadata": {},
     "output_type": "execute_result"
    }
   ],
   "source": [
    "len(data)"
   ]
  },
  {
   "cell_type": "markdown",
   "metadata": {},
   "source": [
    "### 1.6 Is your UNI in `data`?"
   ]
  },
  {
   "cell_type": "code",
   "execution_count": 7,
   "metadata": {},
   "outputs": [
    {
     "data": {
      "text/plain": [
       "True"
      ]
     },
     "execution_count": 7,
     "metadata": {},
     "output_type": "execute_result"
    }
   ],
   "source": [
    "'djk2120' in data"
   ]
  },
  {
   "cell_type": "markdown",
   "metadata": {},
   "source": [
    "### 1.7 How many total times does the character \"s\" appear in the names?\n",
    "Do this in a way that is not case sensitive,"
   ]
  },
  {
   "cell_type": "code",
   "execution_count": 8,
   "metadata": {},
   "outputs": [
    {
     "data": {
      "text/plain": [
       "20"
      ]
     },
     "execution_count": 8,
     "metadata": {},
     "output_type": "execute_result"
    }
   ],
   "source": [
    "total_s=0\n",
    "for name in data.values():\n",
    "    total_s +=name.lower().count('s')\n",
    "total_s\n",
    "    "
   ]
  },
  {
   "cell_type": "markdown",
   "metadata": {},
   "source": [
    "### 1.7 Create a new dictionary that contains the same keys but only the first names as values"
   ]
  },
  {
   "cell_type": "code",
   "execution_count": 9,
   "metadata": {},
   "outputs": [
    {
     "data": {
      "text/plain": [
       "{'akb2134': 'Anne',\n",
       " 'cjc2252': 'Christopher',\n",
       " 'cjc2256': 'Christine',\n",
       " 'cjm2246': 'Carlos',\n",
       " 'cp2850': 'Carly',\n",
       " 'cr2630': 'Colin',\n",
       " 'csl2164': 'Corey',\n",
       " 'djk2120': 'Daniel',\n",
       " 'dpb2141': 'Daniel',\n",
       " 'ehc2150': 'Elizabeth',\n",
       " 'jg3223': 'Jean',\n",
       " 'jwd2136': 'James',\n",
       " 'lkg2133': 'Laura',\n",
       " 'map2251': 'Madeleine',\n",
       " 'meg2203': 'Marina',\n",
       " 'mmf2171': 'Megan',\n",
       " 'njl2134': 'Nathan',\n",
       " 'nr2447': 'Nandini',\n",
       " 'rae2148': 'Ricardo',\n",
       " 'sb3210': 'Seung Hun',\n",
       " 'scw2148': 'Suki',\n",
       " 'sel2172': 'Sara',\n",
       " 'sw2936': 'Siyan',\n",
       " 'tpj2104': 'Tyler',\n",
       " 'tz2218': 'Tianbo',\n",
       " 'ukm2103': 'Una',\n",
       " 'xj2176': 'Xiaomeng',\n",
       " 'yh3019': 'Yu'}"
      ]
     },
     "execution_count": 9,
     "metadata": {},
     "output_type": "execute_result"
    }
   ],
   "source": [
    "first_names = dict()\n",
    "for key,name in data.items():\n",
    "    # split names and index for full first name\n",
    "    first = name.split(',')[1][1:]  \n",
    "    first_names[key]=first\n",
    "first_names\n",
    "    "
   ]
  },
  {
   "cell_type": "markdown",
   "metadata": {},
   "source": [
    "### 1.8 What is the longest first name?"
   ]
  },
  {
   "cell_type": "code",
   "execution_count": 11,
   "metadata": {},
   "outputs": [
    {
     "data": {
      "text/plain": [
       "(11, 'Christopher')"
      ]
     },
     "execution_count": 11,
     "metadata": {},
     "output_type": "execute_result"
    }
   ],
   "source": [
    "longest_name = (0,'tmp')\n",
    "for key in first_names:\n",
    "    name = first_names.get(key)\n",
    "    if len(name)>longest_name[0]:\n",
    "        longest_name = (len(name),name)\n",
    "        \n",
    "longest_name"
   ]
  },
  {
   "cell_type": "markdown",
   "metadata": {},
   "source": [
    "### 1.9 Check that the first letter of each UNI matches the first letter of each first name\n",
    "(Be careful about the case.)"
   ]
  },
  {
   "cell_type": "code",
   "execution_count": 12,
   "metadata": {},
   "outputs": [
    {
     "data": {
      "text/plain": [
       "False"
      ]
     },
     "execution_count": 12,
     "metadata": {},
     "output_type": "execute_result"
    }
   ],
   "source": [
    "#first_names['da123']='Frank Ocean' #test alternate case\n",
    "all_true = True\n",
    "for key in first_names:\n",
    "    if key[0]!=first_names.get(key).lower()[0]:\n",
    "        all_true = False\n",
    "all_true        \n",
    "\n",
    "    "
   ]
  },
  {
   "cell_type": "markdown",
   "metadata": {},
   "source": [
    "## 2 Lists and Numbers\n",
    "\n",
    "In this section, we will play with a [list](https://docs.python.org/3/tutorial/introduction.html#lists) of [numbers](https://docs.python.org/3/tutorial/introduction.html#numbers).\n",
    "\n",
    "Keep in mind that doing lots of numerical calculations on lists of numbers (using just core python) is somewhat awkward and inefficient. [Numpy](http://www.numpy.org/) makes this sort of work much easier; in order to appreciate numpy, however, it is useful to first do things the \"hard way\".\n",
    "\n",
    "Run this chunk of code to load some data.\n",
    "\n",
    "    with open('numbers.pkl', 'rb') as file:\n",
    "        numbers = pickle.load(file)"
   ]
  },
  {
   "cell_type": "code",
   "execution_count": 13,
   "metadata": {
    "collapsed": true
   },
   "outputs": [],
   "source": [
    "with open('numbers.pkl', 'rb') as file:\n",
    "    numbers = pickle.load(file)"
   ]
  },
  {
   "cell_type": "markdown",
   "metadata": {},
   "source": [
    "### 2.1 Confirm that `numbers` is indeed a list"
   ]
  },
  {
   "cell_type": "code",
   "execution_count": 14,
   "metadata": {},
   "outputs": [
    {
     "data": {
      "text/plain": [
       "list"
      ]
     },
     "execution_count": 14,
     "metadata": {},
     "output_type": "execute_result"
    }
   ],
   "source": [
    "type(numbers)"
   ]
  },
  {
   "cell_type": "markdown",
   "metadata": {},
   "source": [
    "### 2.2 How many items are in `numbers`?"
   ]
  },
  {
   "cell_type": "code",
   "execution_count": 15,
   "metadata": {},
   "outputs": [
    {
     "data": {
      "text/plain": [
       "2519"
      ]
     },
     "execution_count": 15,
     "metadata": {},
     "output_type": "execute_result"
    }
   ],
   "source": [
    "len(numbers)"
   ]
  },
  {
   "cell_type": "markdown",
   "metadata": {},
   "source": [
    "### 2.3 What is the difference between the first and last values?"
   ]
  },
  {
   "cell_type": "code",
   "execution_count": 16,
   "metadata": {},
   "outputs": [
    {
     "data": {
      "text/plain": [
       "8827.208984375"
      ]
     },
     "execution_count": 16,
     "metadata": {},
     "output_type": "execute_result"
    }
   ],
   "source": [
    "numbers[-1]-numbers[0]"
   ]
  },
  {
   "cell_type": "markdown",
   "metadata": {},
   "source": [
    "### 2.4 What are thre first five and last five items?"
   ]
  },
  {
   "cell_type": "code",
   "execution_count": 17,
   "metadata": {
    "scrolled": true
   },
   "outputs": [
    {
     "name": "stdout",
     "output_type": "stream",
     "text": [
      "[13291.650390625, 13424.8798828125, 13442.51953125, 13403.419921875, 13739.3896484375]\n",
      "[21807.640625, 21784.779296875, 21797.7890625, 22057.369140625, 22118.859375]\n"
     ]
    }
   ],
   "source": [
    "print(numbers[:5])\n",
    "print(numbers[-5:])"
   ]
  },
  {
   "cell_type": "markdown",
   "metadata": {},
   "source": [
    "### 2.5 What is the type of the first item? Confirm that all items have the same type."
   ]
  },
  {
   "cell_type": "code",
   "execution_count": 20,
   "metadata": {},
   "outputs": [
    {
     "data": {
      "text/plain": [
       "True"
      ]
     },
     "execution_count": 20,
     "metadata": {},
     "output_type": "execute_result"
    }
   ],
   "source": [
    "type_1 = type(numbers[0])\n",
    "#type_1 = type('hello')  #test for counter-example\n",
    "\n",
    "#do all items have the same type?\n",
    "x=[type(a) is type_1 for a in numbers]\n",
    "False not in x  "
   ]
  },
  {
   "cell_type": "markdown",
   "metadata": {},
   "source": [
    "### 2.6 What are the minimum and maximum values in `numbers`?"
   ]
  },
  {
   "cell_type": "code",
   "execution_count": 21,
   "metadata": {},
   "outputs": [
    {
     "name": "stdout",
     "output_type": "stream",
     "text": [
      "6547.0498046875 22118.859375\n"
     ]
    }
   ],
   "source": [
    "min_val = min(numbers)\n",
    "max_val = max(numbers)\n",
    "print(min_val,max_val)"
   ]
  },
  {
   "cell_type": "markdown",
   "metadata": {},
   "source": [
    "### 2.7 What is the mean value?"
   ]
  },
  {
   "cell_type": "code",
   "execution_count": 22,
   "metadata": {},
   "outputs": [
    {
     "name": "stdout",
     "output_type": "stream",
     "text": [
      "14174.955465222125\n"
     ]
    }
   ],
   "source": [
    "mean_val = sum(numbers)/len(numbers)\n",
    "print(mean_val)"
   ]
  },
  {
   "cell_type": "markdown",
   "metadata": {},
   "source": [
    "### 2.8 What is the standard deviation?"
   ]
  },
  {
   "cell_type": "code",
   "execution_count": 23,
   "metadata": {},
   "outputs": [
    {
     "name": "stdout",
     "output_type": "stream",
     "text": [
      "3568.729182942349\n"
     ]
    },
    {
     "data": {
      "text/plain": [
       "3568.7291829422975"
      ]
     },
     "execution_count": 23,
     "metadata": {},
     "output_type": "execute_result"
    }
   ],
   "source": [
    "sum_of_squares =  sum([x**2 for x in numbers])\n",
    "stdev          = (sum_of_squares/len(numbers) - mean_val**2)**(0.5)\n",
    "print(stdev)\n",
    "\n",
    "#check\n",
    "import numpy\n",
    "numpy.std(numbers)"
   ]
  },
  {
   "cell_type": "markdown",
   "metadata": {},
   "source": [
    "### 2.9 What is the largest (most positive) and smallest (most negative)  _change_ from one value to the next"
   ]
  },
  {
   "cell_type": "code",
   "execution_count": 24,
   "metadata": {},
   "outputs": [
    {
     "name": "stdout",
     "output_type": "stream",
     "text": [
      "-777.6796875 936.419921875\n"
     ]
    }
   ],
   "source": [
    "dels = [b-a for a,b in zip(numbers[:-1],numbers[1:])]\n",
    "print(min(dels),max(dels))"
   ]
  },
  {
   "cell_type": "markdown",
   "metadata": {},
   "source": [
    "### Bonus: can you guess the source of these numbers?"
   ]
  },
  {
   "cell_type": "code",
   "execution_count": 25,
   "metadata": {},
   "outputs": [
    {
     "data": {
      "text/plain": [
       "[<matplotlib.lines.Line2D at 0x10edace10>]"
      ]
     },
     "execution_count": 25,
     "metadata": {},
     "output_type": "execute_result"
    },
    {
     "data": {
      "image/png": "[encoded data removed]",
      "text/plain": [
       "<matplotlib.figure.Figure at 0x10492d390>"
      ]
     },
     "metadata": {},
     "output_type": "display_data"
    }
   ],
   "source": [
    "import matplotlib.pyplot as plt\n",
    "%matplotlib inline\n",
    "plt.plot(numbers)"
   ]
  },
  {
   "cell_type": "markdown",
   "metadata": {},
   "source": [
    "**DK:** looks like the dow jones industrial average starting some time in 2007 and getting pretty close to present"
   ]
  },
  {
   "cell_type": "markdown",
   "metadata": {},
   "source": [
    "## 3 Lists vs. Tuples\n",
    "\n",
    "The difference between [lists](https://docs.python.org/3/tutorial/datastructures.html#more-on-lists) and [tuples](https://docs.python.org/3/tutorial/datastructures.html#tuples-and-sequences) is a persistent source of confusion about python. The key difference is that **lists are mutable** while **tuples are immutable**. This short exercise is designed to help you understand what this means."
   ]
  },
  {
   "cell_type": "markdown",
   "metadata": {},
   "source": [
    "### 3.1 Create a list of the first three planets in the solar system"
   ]
  },
  {
   "cell_type": "code",
   "execution_count": 26,
   "metadata": {
    "collapsed": true
   },
   "outputs": [],
   "source": [
    "planets = ['mercury','venus','earth']"
   ]
  },
  {
   "cell_type": "markdown",
   "metadata": {
    "collapsed": true
   },
   "source": [
    "### 3.2 Append the fourth planet to the end of the list\n",
    "(Print the list so you can verify its contents after every modification)"
   ]
  },
  {
   "cell_type": "code",
   "execution_count": 27,
   "metadata": {},
   "outputs": [
    {
     "data": {
      "text/plain": [
       "['mercury', 'venus', 'earth', 'mars']"
      ]
     },
     "execution_count": 27,
     "metadata": {},
     "output_type": "execute_result"
    }
   ],
   "source": [
    "planets.append('mars')\n",
    "planets"
   ]
  },
  {
   "cell_type": "markdown",
   "metadata": {},
   "source": [
    "### 3.3 Venus has exploded. Remove it from the list"
   ]
  },
  {
   "cell_type": "code",
   "execution_count": 28,
   "metadata": {},
   "outputs": [
    {
     "data": {
      "text/plain": [
       "['mercury', 'earth', 'mars']"
      ]
     },
     "execution_count": 28,
     "metadata": {},
     "output_type": "execute_result"
    }
   ],
   "source": [
    "planets.remove('venus')\n",
    "planets"
   ]
  },
  {
   "cell_type": "markdown",
   "metadata": {},
   "source": [
    "### 3.4 Convert the last item of your list to upper case"
   ]
  },
  {
   "cell_type": "code",
   "execution_count": 29,
   "metadata": {},
   "outputs": [
    {
     "data": {
      "text/plain": [
       "['mercury', 'earth', 'MARS']"
      ]
     },
     "execution_count": 29,
     "metadata": {},
     "output_type": "execute_result"
    }
   ],
   "source": [
    "planets.append(planets.pop().upper())\n",
    "planets"
   ]
  },
  {
   "cell_type": "markdown",
   "metadata": {},
   "source": [
    "### 3.5 Create a tuple of the first three planets in the solar system"
   ]
  },
  {
   "cell_type": "code",
   "execution_count": 30,
   "metadata": {
    "collapsed": true
   },
   "outputs": [],
   "source": [
    "three = ('mercury', 'venus', 'earth')"
   ]
  },
  {
   "cell_type": "markdown",
   "metadata": {},
   "source": [
    "### 3.6 Try to append or remove items from the tuple\n",
    "Go ahead, try it! I dare you!"
   ]
  },
  {
   "cell_type": "code",
   "execution_count": 31,
   "metadata": {},
   "outputs": [
    {
     "ename": "AttributeError",
     "evalue": "'tuple' object has no attribute 'append'",
     "output_type": "error",
     "traceback": [
      "\u001b[0;31m---------------------------------------------------------------------------\u001b[0m",
      "\u001b[0;31mAttributeError\u001b[0m                            Traceback (most recent call last)",
      "\u001b[0;32m<ipython-input-31-7a7d7f4bf3b6>\u001b[0m in \u001b[0;36m<module>\u001b[0;34m()\u001b[0m\n\u001b[0;32m----> 1\u001b[0;31m \u001b[0mthree\u001b[0m\u001b[0;34m.\u001b[0m\u001b[0mappend\u001b[0m\u001b[0;34m(\u001b[0m\u001b[0;34m'mars'\u001b[0m\u001b[0;34m)\u001b[0m\u001b[0;34m\u001b[0m\u001b[0m\n\u001b[0m\u001b[1;32m      2\u001b[0m \u001b[0mthree\u001b[0m\u001b[0;34m.\u001b[0m\u001b[0mremove\u001b[0m\u001b[0;34m(\u001b[0m\u001b[0;34m'venus'\u001b[0m\u001b[0;34m)\u001b[0m\u001b[0;34m\u001b[0m\u001b[0m\n",
      "\u001b[0;31mAttributeError\u001b[0m: 'tuple' object has no attribute 'append'"
     ]
    }
   ],
   "source": [
    "three.append('mars')\n",
    "three.remove('venus')"
   ]
  },
  {
   "cell_type": "markdown",
   "metadata": {},
   "source": [
    "### 3.7 Create a new tuple by concatenating a second tuple to your original tuple\n",
    "(No loops needed). It should work. Check your original tuple. Did it change?"
   ]
  },
  {
   "cell_type": "code",
   "execution_count": 32,
   "metadata": {},
   "outputs": [
    {
     "name": "stdout",
     "output_type": "stream",
     "text": [
      "('mercury', 'venus', 'earth')\n",
      "('mercury', 'venus', 'earth', 'mars', 'jupiter')\n"
     ]
    }
   ],
   "source": [
    "five = three + ('mars','jupiter')\n",
    "print(three)\n",
    "print(five)"
   ]
  },
  {
   "cell_type": "markdown",
   "metadata": {},
   "source": [
    "## 4 Standard Library: `datetime`\n",
    "\n",
    "Basic python comes with a powerful [\"standard library\"](https://docs.python.org/3/tutorial/stdlib.html) of modules which help you do useful things like interact with the operating system, perform complex pattern matching on strings using regular expressions, and open network connections. This standard library is too big for us to learn every module: the point here is just to be aware that it exists.\n",
    "\n",
    "In this exercise we will also explore a simple but powerful module from python's standard library: the [`datetime` module](https://docs.python.org/3/tutorial/stdlib.html#dates-and-times)."
   ]
  },
  {
   "cell_type": "markdown",
   "metadata": {},
   "source": [
    "### 4.1 Import the datetime module"
   ]
  },
  {
   "cell_type": "code",
   "execution_count": 33,
   "metadata": {
    "collapsed": true
   },
   "outputs": [],
   "source": [
    "import datetime"
   ]
  },
  {
   "cell_type": "markdown",
   "metadata": {},
   "source": [
    "### 4.2 Read the built-in help on `datetime.date` and `datetime.timedelta`\n",
    "\n",
    "These are the two functions we will be using from the `datetime` module."
   ]
  },
  {
   "cell_type": "code",
   "execution_count": 34,
   "metadata": {},
   "outputs": [
    {
     "name": "stdout",
     "output_type": "stream",
     "text": [
      "Help on class date in module datetime:\n",
      "\n",
      "class date(builtins.object)\n",
      " |  date(year, month, day) --> date object\n",
      " |  \n",
      " |  Methods defined here:\n",
      " |  \n",
      " |  __add__(self, value, /)\n",
      " |      Return self+value.\n",
      " |  \n",
      " |  __eq__(self, value, /)\n",
      " |      Return self==value.\n",
      " |  \n",
      " |  __format__(...)\n",
      " |      Formats self with strftime.\n",
      " |  \n",
      " |  __ge__(self, value, /)\n",
      " |      Return self>=value.\n",
      " |  \n",
      " |  __getattribute__(self, name, /)\n",
      " |      Return getattr(self, name).\n",
      " |  \n",
      " |  __gt__(self, value, /)\n",
      " |      Return self>value.\n",
      " |  \n",
      " |  __hash__(self, /)\n",
      " |      Return hash(self).\n",
      " |  \n",
      " |  __le__(self, value, /)\n",
      " |      Return self<=value.\n",
      " |  \n",
      " |  __lt__(self, value, /)\n",
      " |      Return self<value.\n",
      " |  \n",
      " |  __ne__(self, value, /)\n",
      " |      Return self!=value.\n",
      " |  \n",
      " |  __new__(*args, **kwargs) from builtins.type\n",
      " |      Create and return a new object.  See help(type) for accurate signature.\n",
      " |  \n",
      " |  __radd__(self, value, /)\n",
      " |      Return value+self.\n",
      " |  \n",
      " |  __reduce__(...)\n",
      " |      __reduce__() -> (cls, state)\n",
      " |  \n",
      " |  __repr__(self, /)\n",
      " |      Return repr(self).\n",
      " |  \n",
      " |  __rsub__(self, value, /)\n",
      " |      Return value-self.\n",
      " |  \n",
      " |  __str__(self, /)\n",
      " |      Return str(self).\n",
      " |  \n",
      " |  __sub__(self, value, /)\n",
      " |      Return self-value.\n",
      " |  \n",
      " |  ctime(...)\n",
      " |      Return ctime() style string.\n",
      " |  \n",
      " |  fromordinal(...) from builtins.type\n",
      " |      int -> date corresponding to a proleptic Gregorian ordinal.\n",
      " |  \n",
      " |  fromtimestamp(...) from builtins.type\n",
      " |      timestamp -> local date from a POSIX timestamp (like time.time()).\n",
      " |  \n",
      " |  isocalendar(...)\n",
      " |      Return a 3-tuple containing ISO year, week number, and weekday.\n",
      " |  \n",
      " |  isoformat(...)\n",
      " |      Return string in ISO 8601 format, YYYY-MM-DD.\n",
      " |  \n",
      " |  isoweekday(...)\n",
      " |      Return the day of the week represented by the date.\n",
      " |      Monday == 1 ... Sunday == 7\n",
      " |  \n",
      " |  replace(...)\n",
      " |      Return date with new specified fields.\n",
      " |  \n",
      " |  strftime(...)\n",
      " |      format -> strftime() style string.\n",
      " |  \n",
      " |  timetuple(...)\n",
      " |      Return time tuple, compatible with time.localtime().\n",
      " |  \n",
      " |  today(...) from builtins.type\n",
      " |      Current date or datetime:  same as self.__class__.fromtimestamp(time.time()).\n",
      " |  \n",
      " |  toordinal(...)\n",
      " |      Return proleptic Gregorian ordinal.  January 1 of year 1 is day 1.\n",
      " |  \n",
      " |  weekday(...)\n",
      " |      Return the day of the week represented by the date.\n",
      " |      Monday == 0 ... Sunday == 6\n",
      " |  \n",
      " |  ----------------------------------------------------------------------\n",
      " |  Data descriptors defined here:\n",
      " |  \n",
      " |  day\n",
      " |  \n",
      " |  month\n",
      " |  \n",
      " |  year\n",
      " |  \n",
      " |  ----------------------------------------------------------------------\n",
      " |  Data and other attributes defined here:\n",
      " |  \n",
      " |  max = datetime.date(9999, 12, 31)\n",
      " |  \n",
      " |  min = datetime.date(1, 1, 1)\n",
      " |  \n",
      " |  resolution = datetime.timedelta(1)\n",
      "\n"
     ]
    }
   ],
   "source": [
    "help(datetime.date)"
   ]
  },
  {
   "cell_type": "code",
   "execution_count": 35,
   "metadata": {},
   "outputs": [
    {
     "name": "stdout",
     "output_type": "stream",
     "text": [
      "Help on class timedelta in module datetime:\n",
      "\n",
      "class timedelta(builtins.object)\n",
      " |  Difference between two datetime values.\n",
      " |  \n",
      " |  Methods defined here:\n",
      " |  \n",
      " |  __abs__(self, /)\n",
      " |      abs(self)\n",
      " |  \n",
      " |  __add__(self, value, /)\n",
      " |      Return self+value.\n",
      " |  \n",
      " |  __bool__(self, /)\n",
      " |      self != 0\n",
      " |  \n",
      " |  __divmod__(self, value, /)\n",
      " |      Return divmod(self, value).\n",
      " |  \n",
      " |  __eq__(self, value, /)\n",
      " |      Return self==value.\n",
      " |  \n",
      " |  __floordiv__(self, value, /)\n",
      " |      Return self//value.\n",
      " |  \n",
      " |  __ge__(self, value, /)\n",
      " |      Return self>=value.\n",
      " |  \n",
      " |  __getattribute__(self, name, /)\n",
      " |      Return getattr(self, name).\n",
      " |  \n",
      " |  __gt__(self, value, /)\n",
      " |      Return self>value.\n",
      " |  \n",
      " |  __hash__(self, /)\n",
      " |      Return hash(self).\n",
      " |  \n",
      " |  __le__(self, value, /)\n",
      " |      Return self<=value.\n",
      " |  \n",
      " |  __lt__(self, value, /)\n",
      " |      Return self<value.\n",
      " |  \n",
      " |  __mod__(self, value, /)\n",
      " |      Return self%value.\n",
      " |  \n",
      " |  __mul__(self, value, /)\n",
      " |      Return self*value.\n",
      " |  \n",
      " |  __ne__(self, value, /)\n",
      " |      Return self!=value.\n",
      " |  \n",
      " |  __neg__(self, /)\n",
      " |      -self\n",
      " |  \n",
      " |  __new__(*args, **kwargs) from builtins.type\n",
      " |      Create and return a new object.  See help(type) for accurate signature.\n",
      " |  \n",
      " |  __pos__(self, /)\n",
      " |      +self\n",
      " |  \n",
      " |  __radd__(self, value, /)\n",
      " |      Return value+self.\n",
      " |  \n",
      " |  __rdivmod__(self, value, /)\n",
      " |      Return divmod(value, self).\n",
      " |  \n",
      " |  __reduce__(...)\n",
      " |      __reduce__() -> (cls, state)\n",
      " |  \n",
      " |  __repr__(self, /)\n",
      " |      Return repr(self).\n",
      " |  \n",
      " |  __rfloordiv__(self, value, /)\n",
      " |      Return value//self.\n",
      " |  \n",
      " |  __rmod__(self, value, /)\n",
      " |      Return value%self.\n",
      " |  \n",
      " |  __rmul__(self, value, /)\n",
      " |      Return value*self.\n",
      " |  \n",
      " |  __rsub__(self, value, /)\n",
      " |      Return value-self.\n",
      " |  \n",
      " |  __rtruediv__(self, value, /)\n",
      " |      Return value/self.\n",
      " |  \n",
      " |  __str__(self, /)\n",
      " |      Return str(self).\n",
      " |  \n",
      " |  __sub__(self, value, /)\n",
      " |      Return self-value.\n",
      " |  \n",
      " |  __truediv__(self, value, /)\n",
      " |      Return self/value.\n",
      " |  \n",
      " |  total_seconds(...)\n",
      " |      Total seconds in the duration.\n",
      " |  \n",
      " |  ----------------------------------------------------------------------\n",
      " |  Data descriptors defined here:\n",
      " |  \n",
      " |  days\n",
      " |      Number of days.\n",
      " |  \n",
      " |  microseconds\n",
      " |      Number of microseconds (>= 0 and less than 1 second).\n",
      " |  \n",
      " |  seconds\n",
      " |      Number of seconds (>= 0 and less than 1 day).\n",
      " |  \n",
      " |  ----------------------------------------------------------------------\n",
      " |  Data and other attributes defined here:\n",
      " |  \n",
      " |  max = datetime.timedelta(999999999, 86399, 999999)\n",
      " |  \n",
      " |  min = datetime.timedelta(-999999999)\n",
      " |  \n",
      " |  resolution = datetime.timedelta(0, 0, 1)\n",
      "\n"
     ]
    }
   ],
   "source": [
    "help(datetime.timedelta)"
   ]
  },
  {
   "cell_type": "markdown",
   "metadata": {},
   "source": [
    "### 4.3 Create a `datetime.date` object for your birthday"
   ]
  },
  {
   "cell_type": "code",
   "execution_count": 36,
   "metadata": {
    "collapsed": true
   },
   "outputs": [],
   "source": [
    "nov26 = datetime.date(1987,11,26)"
   ]
  },
  {
   "cell_type": "markdown",
   "metadata": {},
   "source": [
    "### 4.4 What day of the week was your birthday on?"
   ]
  },
  {
   "cell_type": "code",
   "execution_count": 37,
   "metadata": {},
   "outputs": [
    {
     "data": {
      "text/plain": [
       "'thursday'"
      ]
     },
     "execution_count": 37,
     "metadata": {},
     "output_type": "execute_result"
    }
   ],
   "source": [
    "days = ['mon','tues','wednes','thurs','fri','satur','sun']\n",
    "days[nov26.weekday()]+'day'"
   ]
  },
  {
   "cell_type": "markdown",
   "metadata": {
    "collapsed": true
   },
   "source": [
    "### 4.5 Find out how many days have elapsed since your birthday?"
   ]
  },
  {
   "cell_type": "code",
   "execution_count": 38,
   "metadata": {},
   "outputs": [
    {
     "name": "stdout",
     "output_type": "stream",
     "text": [
      "10892 days\n",
      "299 days\n"
     ]
    }
   ],
   "source": [
    "# days since birth\n",
    "print(str(datetime.date.today()-nov26).split()[0]+ ' days')\n",
    "# days since last birthday\n",
    "print(str(datetime.date.today()-datetime.date(2016,11,26)).split()[0]+ ' days')"
   ]
  },
  {
   "cell_type": "markdown",
   "metadata": {},
   "source": [
    "## 5 Functions\n",
    "\n",
    "Learning to write our own [functions](https://docs.python.org/3/tutorial/controlflow.html#defining-functions) is an important step towards writing more sophisticated programs. Here will will practice writing functions. "
   ]
  },
  {
   "cell_type": "markdown",
   "metadata": {},
   "source": [
    "As an example, we will consider the [harmonic series](https://en.wikipedia.org/wiki/Harmonic_series_%28mathematics%29), defined as\n",
    "\n",
    "$$\n",
    "\\sum^N_{n=1}\\frac{1}{n} \n",
    "$$\n",
    "\n",
    "This series diverges logarithmically.\n",
    "\n",
    "### 5.1 Write a function to compute the value of the harmonic series up to `N` terms\n",
    "\n",
    "The function shold have one argument: `N`. It should `return` the series sum."
   ]
  },
  {
   "cell_type": "code",
   "execution_count": 39,
   "metadata": {},
   "outputs": [
    {
     "data": {
      "text/plain": [
       "1.5"
      ]
     },
     "execution_count": 39,
     "metadata": {},
     "output_type": "execute_result"
    }
   ],
   "source": [
    "def harmonic_sum(N,term=0):\n",
    "    # sums the first N terms of the harmonic series\n",
    "    if term>0:\n",
    "        #optional speedier evaluation for convergence testing\n",
    "        series_sum = term + 1/N\n",
    "    else:\n",
    "        series_sum = sum([1/x for x in range(1,N+1)])\n",
    "    return series_sum\n",
    "harmonic_sum(2)"
   ]
  },
  {
   "cell_type": "markdown",
   "metadata": {},
   "source": [
    "### 5.2 What is the value of the harmonic series after 1000 and 1000000 iterations"
   ]
  },
  {
   "cell_type": "code",
   "execution_count": 40,
   "metadata": {},
   "outputs": [
    {
     "name": "stdout",
     "output_type": "stream",
     "text": [
      "7.485470860550343 14.392726722864989\n"
     ]
    }
   ],
   "source": [
    "print(harmonic_sum(1000),harmonic_sum(1000000))"
   ]
  },
  {
   "cell_type": "markdown",
   "metadata": {},
   "source": [
    "The alternating harmonic series:\n",
    "    \n",
    "$$\n",
    "\\sum^N_{n=1}\\frac{(-1)^{n+1}}{n} \n",
    "$$\n",
    "\n",
    "_does_ converge.\n",
    "\n",
    "### 5.3 Write a function to compute the value of the alternating  harmonic series up to `N` terms"
   ]
  },
  {
   "cell_type": "code",
   "execution_count": 41,
   "metadata": {},
   "outputs": [
    {
     "data": {
      "text/plain": [
       "0.5"
      ]
     },
     "execution_count": 41,
     "metadata": {},
     "output_type": "execute_result"
    }
   ],
   "source": [
    "def alt_harmonic_sum(N,term=0):\n",
    "    # sums the first N terms of the harmonic series\n",
    "    if term>0:\n",
    "        series_sum = term + (-1)**(N+1)/N\n",
    "    else:\n",
    "        series_sum = sum([(-1)**(x+1)/x for x in range(1,N+1)])\n",
    "    return series_sum\n",
    "alt_harmonic_sum(2)"
   ]
  },
  {
   "cell_type": "markdown",
   "metadata": {},
   "source": [
    "### 5.2 What is the value of the alternating harmonic series after 1000 and 1000000 iterations"
   ]
  },
  {
   "cell_type": "code",
   "execution_count": 43,
   "metadata": {},
   "outputs": [
    {
     "name": "stdout",
     "output_type": "stream",
     "text": [
      "0.6926474305598223 0.6931466805602525\n"
     ]
    },
    {
     "data": {
      "text/plain": [
       "0.69314718055994529"
      ]
     },
     "execution_count": 43,
     "metadata": {},
     "output_type": "execute_result"
    }
   ],
   "source": [
    "print(alt_harmonic_sum(1000),alt_harmonic_sum(1000000))\n",
    "\n",
    "#see also\n",
    "import numpy\n",
    "numpy.log(2)"
   ]
  },
  {
   "cell_type": "markdown",
   "metadata": {},
   "source": [
    "### 5.3 Numerical convergence test\n",
    "\n",
    "Now for something more complicated: we will write a function that tests whether another function converges. As its first argument, this function should accept _another function_. It should also have _optional keyword arguments_ that specify\n",
    "\n",
    "* the numerical tolerance (how close is close enough to consider a series converged?)\n",
    "* the number of iterations (we can't iterate an infinite number of times, we just have to pick a \"large number\")\n",
    "\n",
    "This function should print a statement telling what it found. If the test function converges, print the value it converges to.\n",
    "\n",
    "_(Hint: the alernating harmonic series oscillates strongly around the asymptotic value. So checking neighboring points may not be the best way to test for convergence. Can you think of a more robust method?)_"
   ]
  },
  {
   "cell_type": "code",
   "execution_count": 46,
   "metadata": {},
   "outputs": [
    {
     "name": "stdout",
     "output_type": "stream",
     "text": [
      "converged to 0.6931489681575893 in 378 iters with tol= 1e-07\n"
     ]
    }
   ],
   "source": [
    "def convergence_test(f,tol=10**-10,max_iters=1000000):\n",
    "    # tests if function, f converges to tol within max_iters\n",
    "    # keeps track of the \"last few\" iterations\n",
    "    # testing whether those last few iterations demonstrate convergence\n",
    "    # by comparing the mean of the first and second halfs of the list \"lastfew\"\n",
    "    # note that (for speed) f should accept two args, \n",
    "    # the iteration number (N) and the evaluation of iter N-1\n",
    "    \n",
    "    go = True\n",
    "    ct = 1\n",
    "    lastfew = [f(1)]; #initialize last few with iter #1\n",
    "    converged = False\n",
    "    while go:\n",
    "        ct = ct+1\n",
    "        \n",
    "        # append next iter to lastfew\n",
    "        lastfew.append(f(ct,lastfew[-1]))\n",
    "\n",
    "        # allows the length of lastfew to grow like the sqrt(N)\n",
    "        few = int(ct**(0.5))+1\n",
    "        if len(lastfew)>few:\n",
    "            lastfew.remove(lastfew[0])\n",
    "        \n",
    "        # compare means\n",
    "        half = int(len(lastfew)/2)\n",
    "        mean1 = sum(lastfew[:half])/len(lastfew[:half])\n",
    "        mean2 = sum(lastfew[half:])/len(lastfew[half:])\n",
    "        abs_diff = (mean1-mean2)+2*(mean2-mean1)*((mean1-mean2)<0)\n",
    "        \n",
    "        # test if |mean1 - mean2| is within tolerance\n",
    "        if abs_diff<tol:\n",
    "            print('converged to',mean2,'in',ct,'iters with tol=',tol)\n",
    "            converged=True\n",
    "            go=False\n",
    "        \n",
    "        if ct>=max_iters:\n",
    "            go=False\n",
    "            \n",
    "    if not converged:\n",
    "        print('did not converge in',ct,'iters')\n",
    "\n",
    "    \n",
    "convergence_test(alt_harmonic_sum,1e-7,1500)\n"
   ]
  },
  {
   "cell_type": "markdown",
   "metadata": {},
   "source": [
    "### 5.3 Use your convergence test function see that the harmonic series diverges and the alternating harmonic series converges?\n",
    "\n",
    "Explore the sensitivity to the two optional parameters. What are the tradeoffs between tolerance and number of iterations?"
   ]
  },
  {
   "cell_type": "code",
   "execution_count": 75,
   "metadata": {},
   "outputs": [
    {
     "name": "stdout",
     "output_type": "stream",
     "text": [
      "did not converge in 100000 iters\n",
      "0.692594 seconds\n"
     ]
    }
   ],
   "source": [
    "t1=datetime.datetime.now()\n",
    "convergence_test(alt_harmonic_sum,tol=1e-15,max_iters=1e5)\n",
    "t2=datetime.datetime.now()\n",
    "cost = t2-t1\n",
    "print(cost.total_seconds(), 'seconds')"
   ]
  },
  {
   "cell_type": "code",
   "execution_count": 76,
   "metadata": {},
   "outputs": [
    {
     "name": "stdout",
     "output_type": "stream",
     "text": [
      "converged to 0.6931471805583374 in 388653 iters with tol= 1e-15\n",
      "3.524607 seconds\n"
     ]
    }
   ],
   "source": [
    "t1=datetime.datetime.now()\n",
    "convergence_test(alt_harmonic_sum,tol=1e-15,max_iters=1e6)\n",
    "t2=datetime.datetime.now()\n",
    "cost = t2-t1\n",
    "print(cost.total_seconds(), 'seconds')"
   ]
  },
  {
   "cell_type": "code",
   "execution_count": 54,
   "metadata": {},
   "outputs": [
    {
     "name": "stdout",
     "output_type": "stream",
     "text": [
      "converged to 0.6931489681575893 in 378 iters with tol= 1e-07\n"
     ]
    }
   ],
   "source": [
    "convergence_test(alt_harmonic_sum,tol=1e-7,max_iters=500)"
   ]
  },
  {
   "cell_type": "code",
   "execution_count": 55,
   "metadata": {},
   "outputs": [
    {
     "name": "stdout",
     "output_type": "stream",
     "text": [
      "converged to 0.6931489681575893 in 378 iters with tol= 1e-07\n"
     ]
    }
   ],
   "source": [
    "convergence_test(alt_harmonic_sum,tol=1e-7,max_iters=5000)"
   ]
  },
  {
   "cell_type": "markdown",
   "metadata": {},
   "source": [
    "**DK:** The tighter the tolerance, the more iters you need to confidently claim non-convergence. Evaluating more iters takes more time O(N). In this implementation, hi"
   ]
  },
  {
   "cell_type": "code",
   "execution_count": null,
   "metadata": {
    "collapsed": true
   },
   "outputs": [],
   "source": []
  }
 ],
 "metadata": {
  "kernelspec": {
   "display_name": "Python 3",
   "language": "python",
   "name": "python3"
  },
  "language_info": {
   "codemirror_mode": {
    "name": "ipython",
    "version": 3
   },
   "file_extension": ".py",
   "mimetype": "text/x-python",
   "name": "python",
   "nbconvert_exporter": "python",
   "pygments_lexer": "ipython3",
   "version": "3.6.2"
  }
 },
 "nbformat": 4,
 "nbformat_minor": 2
}
